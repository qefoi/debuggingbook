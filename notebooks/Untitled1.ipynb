{
 "cells": [
  {
   "cell_type": "code",
   "execution_count": null,
   "id": "81b5c880-6e5d-4547-9cbc-4864e322407c",
   "metadata": {},
   "outputs": [],
   "source": [
    "import json\n",
    "import sys\n",
    "\n",
    "def addseqnum(notestring: str) -> str:\n",
    "    noteobj = json.loads(notestring)\n",
    "\n",
    "    cells = noteobj[\"cells\"] # list\n",
    "\n",
    "    for seq, cell in enumerate(cells, start=1):\n",
    "        metadata = cell[\"metadata\"] if \"metadata\" in cell else dict()\n",
    "        tags = metadata[\"tags\"] if \"tags\" in metadata else list()\n",
    "        tags.append(str(seq))\n",
    "\n",
    "        metadata[\"tags\"] = tags\n",
    "        cell[\"metadata\"] = metadata\n",
    "\n",
    "    return json.dumps(noteobj, indent=2)\n",
    "\n",
    "\n",
    "def main():\n",
    "    if len(sys.argv) > 0:\n",
    "        path = sys.argv[1]\n",
    "        with open(path, \"r\") as f:\n",
    "            tagged = addseqnum(f.read())\n",
    "\n",
    "        with open(path, \"w\") as f:\n",
    "            f.write(tagged)\n",
    "\n",
    "\n",
    "if __name__ == \"__main__\":\n",
    "    main()"
   ]
  }
 ],
 "metadata": {
  "kernelspec": {
   "display_name": "Python 3 (ipykernel)",
   "language": "python",
   "name": "python3"
  },
  "language_info": {
   "codemirror_mode": {
    "name": "ipython",
    "version": 3
   },
   "file_extension": ".py",
   "mimetype": "text/x-python",
   "name": "python",
   "nbconvert_exporter": "python",
   "pygments_lexer": "ipython3",
   "version": "3.12.4"
  }
 },
 "nbformat": 4,
 "nbformat_minor": 5
}
